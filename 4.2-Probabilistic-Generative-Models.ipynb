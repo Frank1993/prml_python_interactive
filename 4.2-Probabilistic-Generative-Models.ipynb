{
 "cells": [
  {
   "cell_type": "code",
   "execution_count": 1,
   "metadata": {
    "collapsed": true
   },
   "outputs": [],
   "source": [
    "%matplotlib inline"
   ]
  },
  {
   "cell_type": "code",
   "execution_count": 2,
   "metadata": {
    "collapsed": true
   },
   "outputs": [],
   "source": [
    "import numpy as np\n",
    "from matplotlib import pyplot as plt\n",
    "from pylab import *"
   ]
  },
  {
   "cell_type": "markdown",
   "metadata": {},
   "source": [
    "# 概率生成模型\n",
    "\n",
    "首先考虑二分类情况，类别C1的后验概率可以写成：\n",
    "\n",
    "$$p(C_1|x)=\\frac{p(x|C_1)p(C_1)}{p(x|C_1)p(C_1)+p(x|C_2)p(C_2)}=\\frac{1}{1+\\exp(-a)}=\\sigma(a)$$\n",
    "\n",
    "其中，$a=ln\\frac{p(x|C_1)p(C_1)}{p(x|C_2)p(C_2)}$\n",
    "\n",
    "$\\sigma(a)$是logistic sigmoid函数，定义为\n",
    "\n",
    "$\\sigma(a)=\\frac{1}{1+\\exp(-a)}$\n",
    "\n",
    "sigmoid函数图形为s形，其满足下面这几个性质：\n",
    "\n",
    "$\\sigma(-a)=\\sigma(a)$\n",
    "\n",
    "其反函数为\n",
    "\n",
    "$a=ln(\\frac{\\sigma}{1-\\sigma})$,它表示两个类别的概率比值的对数：\n",
    "\n",
    " $ln\\frac{p(C_1|x)}{p(C_2|x)}$\n",
    "\n",
    "我们从simoid函数的定义可以看出，$p(C_2|x)=\\sigma(-a)$\n",
    "\n",
    "所以有   $p(C_1|x)+p(C_2|x)=1$\n"
   ]
  },
  {
   "cell_type": "code",
   "execution_count": 3,
   "metadata": {
    "collapsed": true
   },
   "outputs": [],
   "source": [
    "def sigmoid(x):\n",
    "    return 1/(1+np.exp(-x))"
   ]
  },
  {
   "cell_type": "code",
   "execution_count": 4,
   "metadata": {
    "collapsed": false
   },
   "outputs": [
    {
     "data": {
      "image/png": "[encoded data removed]",
      "text/plain": [
       "<matplotlib.figure.Figure at 0x10d874690>"
      ]
     },
     "metadata": {},
     "output_type": "display_data"
    }
   ],
   "source": [
    "x=np.arange(-10,10,0.01)\n",
    "y=sigmoid(x)\n",
    "plt.plot(x,y)\n",
    "plt.plot(0,0.5,'go')\n",
    "plt.show()"
   ]
  },
  {
   "cell_type": "markdown",
   "metadata": {},
   "source": [
    "# 多分类情况\n",
    "\n",
    "$p(C_k|x)= \\frac{p(x|C_k)p(C_k)}{ \\sum_j  p(x|C_k)p(C_k)} \n",
    "            = \\frac{exp(a_k)}{\\sum_j exp(a_j)}$\n",
    "\n",
    "其中$a_k=lnp(x|C_k)p(C_k)$\n",
    "\n",
    "上述函数被称为归一化指数（normalized exponential），也被称为softmax函数,因为它表示“max”函数的一个平滑版本。这是因为,如果对于所有的\n",
    " $j\\neq k$都有$a_k >> a_j$,那么$p(C_k|x)≃1$且$p(Cj|x)≃0$。\n"
   ]
  },
  {
   "cell_type": "code",
   "execution_count": 5,
   "metadata": {
    "collapsed": false
   },
   "outputs": [
    {
     "name": "stderr",
     "output_type": "stream",
     "text": [
      "/Library/Python/2.7/site-packages/ipykernel/__main__.py:66: RuntimeWarning: divide by zero encountered in double_scalars\n"
     ]
    },
    {
     "data": {
      "image/png": "[encoded data removed]",
      "text/plain": [
       "<matplotlib.figure.Figure at 0x10d9db4d0>"
      ]
     },
     "metadata": {},
     "output_type": "display_data"
    }
   ],
   "source": [
    "N=100\n",
    "def f(x1, w):\n",
    "    # 决策边界的直线方程\n",
    "    # p(C1|X) > 0.5 -> X属于类别C1\n",
    "    # p(C1|X) < 0.5 -> X属于类别C2\n",
    "    # p(C1|X) = 0.5 -> sigmoid函数的输入为0\n",
    "    a = - (w[1] / w[2])\n",
    "    b = - (w[0] / w[2])\n",
    "    return a * x1 + b\n",
    "\n",
    "# 生成训练数据\n",
    "cls1 = []\n",
    "cls2 = []\n",
    "\n",
    "mean1 = [-1, 2]\n",
    "mean2 = [1, -1]\n",
    "mean3 = [8, -6]\n",
    "cov = [[1.0,0.8], [0.8,1.0]]\n",
    "\n",
    "# 假设数据服从多维高斯分布\n",
    "cls1.extend(np.random.multivariate_normal(mean1, cov, N / 2))\n",
    "cls2.extend(np.random.multivariate_normal(mean2, cov, N / 2 - 20))\n",
    "cls2.extend(np.random.multivariate_normal(mean3, cov, 20))\n",
    "\n",
    "# 创建输入矩阵X\n",
    "temp = vstack((cls1, cls2))\n",
    "temp2 = ones((N, 1))\n",
    "X = hstack((temp2, temp))\n",
    "\n",
    "# 创建target矩阵T(注意这里不是1-of-K的表示方法)\n",
    "t = []\n",
    "for i in range(N / 2):\n",
    "    t.append(1.0)\n",
    "for i in range(N / 2):\n",
    "    t.append(0.0)\n",
    "t = array(t)\n",
    "\n",
    "# 用IRLS方法更新参数w\n",
    "turn = 0\n",
    "w = array([0.0, 0.0, 0.0])  # 为参数w设定适当的初始值\n",
    "while True:\n",
    "    # 计算 phi 由于没有使用固定的基函数，phi恒等于输入矩阵X\n",
    "    phi = X\n",
    "\n",
    "    # 计算R和Y\n",
    "    R = np.zeros((N, N))\n",
    "    y = []\n",
    "    for n in range(N):\n",
    "\n",
    "        # a=W^T\\phi\n",
    "        a = np.dot(w, phi[n,])  \n",
    "        y_n = sigmoid(a)\n",
    "        # R 是一个对角矩阵\n",
    "        R[n, n] = y_n * (1 - y_n)\n",
    "        y.append(y_n)\n",
    "\n",
    "    # 计算海森（Hessian）矩阵H\n",
    "    phi_T = phi.T\n",
    "    H = np.dot(phi_T, np.dot(R, phi))\n",
    "\n",
    "    # 更新参数W\n",
    "    w_new = w - np.dot(np.linalg.inv(H), np.dot(phi_T, y-t))\n",
    "\n",
    "    # 判断w是否收敛 \n",
    "    #np.linalg.norm 用于计算向量的2-范数\n",
    "    diff = np.linalg.norm(w_new - w) / np.linalg.norm(w)\n",
    "    if diff < 0.1: break\n",
    "\n",
    "    w = w_new\n",
    "    turn += 1\n",
    "\n",
    "# 绘制训练数据点\n",
    "x1, x2 = np.array(cls1).transpose()\n",
    "plot(x1, x2, 'rx')\n",
    "\n",
    "x1, x2 = np.array(cls2).transpose()\n",
    "plot(x1, x2, 'bo')\n",
    "\n",
    "# 绘制训练边界\n",
    "x1 = np.linspace(-6, 10, 1000)\n",
    "x2 = [f(x, w) for x in x1]\n",
    "plot(x1, x2, 'g-')\n",
    "\n",
    "xlim(-6, 10)\n",
    "ylim(-10, 6)\n",
    "show()"
   ]
  },
  {
   "cell_type": "code",
   "execution_count": 6,
   "metadata": {
    "collapsed": false
   },
   "outputs": [
    {
     "name": "stderr",
     "output_type": "stream",
     "text": [
      "/Library/Python/2.7/site-packages/ipykernel/__main__.py:84: RuntimeWarning: divide by zero encountered in double_scalars\n"
     ]
    },
    {
     "data": {
      "image/png": "[encoded data removed]",
      "text/plain": [
       "<matplotlib.figure.Figure at 0x10dae6a10>"
      ]
     },
     "metadata": {},
     "output_type": "display_data"
    }
   ],
   "source": [
    "# 4.3.4 多类别逻辑回归\n",
    "\n",
    "N = 300  # 数据的数目\n",
    "M = 3    # 参数的维度\n",
    "K = 3    # 类别的数目\n",
    "\n",
    "def sigmoid(a):\n",
    "    return 1 / (1 + np.exp(-a))\n",
    "\n",
    "def f(x1, W_t, c1, c2):\n",
    "    # 类别C1和类别C2的决策边界的直线方程\n",
    "    a = - ((W_t[c1, 1] - W_t[c2, 1]) / (W_t[c1, 2] - W_t[c2, 2]))\n",
    "    b = - ((W_t[c1, 0] - W_t[c2, 0]) / (W_t[c1, 2] - W_t[c2, 2]))\n",
    "    return a * x1 + b\n",
    "\n",
    "# 生成训练数据\n",
    "cls1 = []\n",
    "cls2 = []\n",
    "cls3 = []\n",
    "\n",
    "mean1 = [-2, 2]  # 类别1的均值\n",
    "mean2 = [0, 0]   # 类别2的均值\n",
    "mean3 = [2, -2]   # 类别3的均值\n",
    "cov = [[1.0,0.8], [0.8,1.0]]  # 公用协方差矩阵\n",
    "\n",
    "# 假定训练数据满足多维高斯分布\n",
    "cls1.extend(np.random.multivariate_normal(mean1, cov, N / 3))\n",
    "cls2.extend(np.random.multivariate_normal(mean2, cov, N / 3))\n",
    "cls3.extend(np.random.multivariate_normal(mean3, cov, N / 3))\n",
    "\n",
    "# 生成输入矩阵X\n",
    "temp = vstack((cls1, cls2, cls3))\n",
    "temp2 = ones((N, 1))\n",
    "X = hstack((temp2, temp))\n",
    "\n",
    "# 生成target 矩阵T （采用1-of-K的表示方法）\n",
    "T = []\n",
    "for i in range(N / 3):\n",
    "    T.append(array([1, 0, 0]))\n",
    "for i in range(N / 3):\n",
    "    T.append(array([0, 1, 0]))\n",
    "for i in range(N / 3):\n",
    "    T.append(array([0, 0, 1]))\n",
    "T = array(T)\n",
    "\n",
    "# 利用IRLS算法更新参数矩阵W\n",
    "turn = 0\n",
    "W = np.zeros((M, K))\n",
    "while True:\n",
    "    # 由于没有使用固定基函数，phi恒等于X\n",
    "    phi = X\n",
    "\n",
    "    # 计算预测矩阵Y\n",
    "    Y = np.zeros((N, K))\n",
    "    for n in range(N):\n",
    "        denominator = 0.0\n",
    "        for k in range(K):\n",
    "            denominator += np.exp(np.dot(W[:,k], X[n,:]))\n",
    "        for k in range(K):\n",
    "            Y[n, k] = np.exp(np.dot(W[:,k], X[n,:])) / denominator\n",
    "\n",
    "    # 计算海森矩阵H\n",
    "    I = np.identity(K)\n",
    "    H = np.zeros((K * K, M, M))\n",
    "    for j in range(K):\n",
    "        for k in range(K):\n",
    "            # 按照4.110式子来计算\n",
    "            for n in range(N):\n",
    "                temp = Y[n, k] * (I[k, j] - Y[n,j])\n",
    "                H[k + j * K] += temp * matrix(phi)[n].reshape(M,1) * matrix(phi)[n].reshape(1,M)  # \n",
    "            # 也可以按照如下矩阵来进行计算\n",
    "                #Ijk = 1 if j == k else 0\n",
    "                #R = np.diag(Y[:,k] * (Ijk - Y[:,j]))\n",
    "                #H[k + j * K] = np.dot(phi.T, np.dot(R, phi))\n",
    "\n",
    "    # 更新权重矩阵W\n",
    "    W_new = np.zeros((M, K))\n",
    "    phi_T = phi.T\n",
    "    for i in range(K):\n",
    "        temp = np.dot(phi_T, Y[:,i] - T[:,i])\n",
    "        W_new[:,i] = W[:,i] - np.dot(np.linalg.inv(H[i + i * K]), temp)\n",
    "\n",
    "    # 判断W是否收敛\n",
    "    diff = np.linalg.norm(W_new - W) / np.linalg.norm(W)\n",
    "    if diff < 0.1: break\n",
    "\n",
    "    W = W_new\n",
    "    turn += 1\n",
    "\n",
    "W_t = np.transpose(W)\n",
    "\n",
    "# 绘制训练数据点\n",
    "x1, x2 = np.transpose(np.array(cls1))\n",
    "plot(x1, x2, 'rx')\n",
    "x1, x2 = np.transpose(np.array(cls2))\n",
    "plot(x1, x2, 'g+')\n",
    "x1, x2 = np.transpose(np.array(cls3))\n",
    "plot(x1, x2, 'bo')\n",
    "\n",
    "# 绘制类别C1和类别C2的决策边界\n",
    "x1 = np.linspace(-6, 6, 1000)\n",
    "x2 = [f(x, W_t, 0, 1) for x in x1]\n",
    "plot(x1, x2, 'r-')\n",
    "\n",
    "# 绘制类别C2和类别C3的决策边界\n",
    "x1 = np.linspace(-6, 6, 1000)\n",
    "x2 = [f(x, W_t, 1, 2) for x in x1]\n",
    "plot(x1, x2, 'b-')\n",
    "\n",
    "xlim(-6, 6)\n",
    "ylim(-6, 6)\n",
    "show()"
   ]
  },
  {
   "cell_type": "code",
   "execution_count": 7,
   "metadata": {
    "collapsed": true
   },
   "outputs": [],
   "source": [
    "plt.scatter?"
   ]
  },
  {
   "cell_type": "code",
   "execution_count": null,
   "metadata": {
    "collapsed": true
   },
   "outputs": [],
   "source": []
  }
 ],
 "metadata": {
  "kernelspec": {
   "display_name": "Python 2",
   "language": "python",
   "name": "python2"
  },
  "language_info": {
   "codemirror_mode": {
    "name": "ipython",
    "version": 2
   },
   "file_extension": ".py",
   "mimetype": "text/x-python",
   "name": "python",
   "nbconvert_exporter": "python",
   "pygments_lexer": "ipython2",
   "version": "2.7.10"
  }
 },
 "nbformat": 4,
 "nbformat_minor": 0
}
