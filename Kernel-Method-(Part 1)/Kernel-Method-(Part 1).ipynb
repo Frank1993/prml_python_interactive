{
 "cells": [
  {
   "cell_type": "markdown",
   "metadata": {},
   "source": [
    "# kernel method (1)------核方法"
   ]
  },
  {
   "cell_type": "markdown",
   "metadata": {},
   "source": [
    "## 一、什么是 kernel method\n",
    "\n",
    "kernel method是很多机器学习算法的基础，它的得名是由于这类方法使用了kernel function。我们最初研究的分类算法大多数是线性可分的，利用线性分类算法诸如logistic regression即可完成分类任务。但是还有很多分类问题，不同类别的特征向量不是线性可分的，kernel method 的作用就是将原始空间中的特征向量映射到另外一个空间中(被称为特征空间)，被映射后的向量在这个空间中是线性可分的，这样我们就能够使用线性函数来更容易决定类别之间的决策边界。简单来说，**`kernel method 的作用是将非线性决策边界转化为线性决策边界.`**"
   ]
  },
  {
   "cell_type": "markdown",
   "metadata": {},
   "source": [
    "\n",
    "## 二、特征映射(feature mapping)\n",
    "\n",
    ">feature mapping 的作用是将原空间的特征向量映射到特征空间中\n",
    "\n",
    "feature mapping 通常用函数$\\phi$来表示。如下图<img src='a.png'>所示的特征映射中，我们在二维空间中有属于两个类别的数据点，属于类别1的点用红色的圆表示，属于类别2的点用绿色的叉表示。很明显，这两个类别的决策边界近似一个椭圆，假设其方程为$$\\frac{x^2}{a^2}+\\frac{y^2}{b^2}=1$$\n",
    "\n",
    "对于这样一个非线性的决策边界，我们是不易进行处理的。我们必须考虑如何将这个非线性的决策边界转化为一个线性的决策边界。尝试引入一个非线性特征映射\n",
    "\n",
    "$\\phi(X)=\\phi([x_1,x_2]^T)=Z=[z_1,z_2,z_3]^T=[x_1^2,\\sqrt{2}x_1x_2,x_2^2]$\n",
    "\n",
    "注意，原空间的基为$x_1$,$x_2$,新空间的基为$z_1$,$z_2$,$z_3$.原空间为二维空间，特征空间为3维空间。\n",
    "\n",
    "此时利用这个特征映射，将原空间的决策边界进行映射之后有：\n",
    "\n",
    "$$\\frac{x_1^2}{a^2}+\\frac{x_2^2}{b^2}=1 \\rightarrow \\frac{1}{a^2}z_1+0*z_2+\\frac{1}{b^2}z^3=1$$\n",
    "决策边界变为三维空间中Z1Z3平面中一条直线，而原空间中的属于不同类别的点还是分在决策边界的两边。\n",
    "\n",
    "\n"
   ]
  },
  {
   "cell_type": "markdown",
   "metadata": {
    "collapsed": true
   },
   "source": [
    "## 三、 kernel function"
   ]
  },
  {
   "cell_type": "markdown",
   "metadata": {},
   "source": [
    "> kernel function 的记法为 $k(x_1,x_2)$,表示原空间中$x_1$,$x_2$这两个点经过feature mapping之后在特征空间中对应的点的内积。\n",
    "\n",
    ">即 $k(x_1,x_2)=\\phi^T(x_1)\\phi(x_2)$\n",
    "\n",
    "对于上面我们提到的那个feature mapping 函数来说，如下图所示，其对应的kernel function 为 $k(x_1,x_2)=(x_1^Tx_2)^2$\n",
    "\n",
    "<img src='image1.png' alt='feature mapping与kernel function的对应关系'>"
   ]
  },
  {
   "cell_type": "markdown",
   "metadata": {},
   "source": [
    "> ### kernel trick\n",
    "\n",
    ">>* Kernel 技巧的方式如下：\n",
    "\n",
    ">>   * 把数据映射到一个特征空间(feature space)中（通常有更高的维度）\n",
    "\n",
    ">>   * 在特征空间中寻找如 线性边界 的(线性)关系\n",
    "\n",
    ">>* 如果feature mapping的函数选择得当，复杂的(非线性)关系可以被映射称为简单的(线性)关系，这样新的决策边界就很容易被处理了"
   ]
  },
  {
   "cell_type": "markdown",
   "metadata": {},
   "source": [
    "### 为什么kernel function如此重要\n",
    "\n",
    "> kernel function 表示的是特征空间中的内积，在欧氏空间中，其他任何特性都由空间的内积可以得到。详见《矩阵论》\n",
    "\n",
    "1. 利用内积来计算特征空间中距离\n",
    "<img src='image2.png'>\n",
    "2. 利用内积来计算特征空间中向量的夹角\n",
    "<img src='image3.png'>"
   ]
  },
  {
   "cell_type": "markdown",
   "metadata": {},
   "source": [
    "## 四、feature mapping与kernel function的比较\n",
    "\n",
    "> Mercer's theorem\n",
    "\n",
    ">kernel function 与feature mapping函数是一一对应的。$$k(x_1,x_2)=<\\phi(x_1),\\phi(x_2)>$$\n",
    "\n",
    "也就是说我们在实际工程中，只要知道feature mapping与kernel function之一即可。\n",
    "> 但是一般只使用kernel function即可，因为相比较于使用feature mapping计算量要小得多\n",
    "\n",
    "<img src='image4.png'>"
   ]
  },
  {
   "cell_type": "markdown",
   "metadata": {},
   "source": [
    "## 五、Inner Product Matrix/ Gram Matrix / Kernel Matrix\n",
    "<img src='image5.png'>\n"
   ]
  },
  {
   "cell_type": "markdown",
   "metadata": {},
   "source": [
    "## 六、什么样的kernel function才是有用的？\n",
    "\n",
    "1. kernel matrix 必须是有限正半定函数(Finitely positive semi-definite)\n",
    "$$\n",
    "k=\\begin{vmatrix}\n",
    "k(x_1,x_1)&\\cdots&k(x_1,x_n) \\\\\n",
    "\\cdots& \\ddots&\\cdots \\\\\n",
    "K(x_n,x_1)&\\cdots&k(x_n,x_n)\n",
    "\\end{vmatrix}\\geq 0\n",
    "$$\n",
    "2. kernel function 是对称的\n",
    "\n",
    "  $$k(x_1,x_2)=k(x_2,x_1)$$\n",
    "3.kernel function的另外一种表示\n",
    "<img src='image6.png'>\n",
    "\n",
    "不过在很多机器学习的文献中，X用$\\Phi$表示，即$K=\\Phi \\Phi^T$，也就是说，$\\Phi$的第n行是$\\phi(X_n)^T$\n",
    "$$\\Phi=\\begin{bmatrix}\\\\\n",
    "\\phi (X_1)^T \\\\\n",
    "\\vdots \\\\\n",
    "\\phi (X_n)^T\n",
    "\\end{bmatrix}\n",
    "$$"
   ]
  },
  {
   "cell_type": "markdown",
   "metadata": {},
   "source": [
    "## 七、Dual Representations\n",
    "\n",
    "> 很多用于回归和分类的线性算法都有双重表示，可以很自然地用kernel函数来表示,这在支持向量机中起到了很重要的作用\n",
    "\n",
    "现在我们考虑一个简单的线性回归模型，它的参数由最小化一个正则化的误差平方和来得到。\n",
    "\n",
    "$$J(W)=\\frac{1}{2}\\sum_{n=1}^N \\{ W^T\\phi(X_n)-t_n \\}^2+\\frac{\\lambda}{2}W^TW$$\n",
    "其中正则化参数$\\lambda\\geq0$。我们令误差平方和函数对W的导数为0可以得到：\n",
    "$$\\sum_{n=1}^N \\{ W^T\\phi(X_n)-t_n \\}\\phi(X_n)+\\lambda W=0\\\\\n",
    "\\Rightarrow W=-\\frac{1}{\\lambda}\\sum_{n=1}^N \\{ W^T\\phi(X_n)-t_n \\}\\phi(X_n)\\\\\n",
    "=\\sum_{n=1}^Na_n\\phi(X_n)=\\Phi^T\\mathbf{a}$$ \n",
    "\n",
    "其中$\\Phi$的第n行是$\\phi(X_n)$，\n",
    "\n",
    "向量$\\mathbf{a}=(a_1,....a_n)^T$,并且定义\n",
    "$$a_n=-\\frac{1}{\\lambda}\\sum_{n=1}^N \\{ W^T\\phi(X_n)-t_n \\}$$\n",
    "将$W=\\Phi^T\\mathbf{a}$代入$J(W)$可以得到如下的式子，使用$\\mathbf{a}$来表示误差平方和函数就是所谓的dual representation\n",
    "\n",
    "$$J(\\mathbf{a})=\\frac{1}{2}\\mathbf{a}^T \\Phi \\Phi ^T \\Phi \\Phi ^T \\mathbf{a}-\\mathbf{a}^T\\Phi \\Phi ^T \\mathbf{t}+\\frac{1}{2}\\mathbf{t}^T\\mathbf{t}+\\frac{\\lambda}{2}\\mathbf{a}^T \\Phi \\Phi ^T \\mathbf{a}$$\n",
    "\n",
    "其中 $\\mathbf{t}=(t_1,...,t_n)^T$,又因为$K=\\Phi \\Phi ^T$\n",
    "\n",
    "$$J(\\mathbf{a})=\\frac{1}{2}\\mathbf{a}^T \\mathbf{K}\\mathbf{K} \\mathbf{a}-\\mathbf{a}^T \\mathbf{K} \\mathbf{t}+\\frac{1}{2}\\mathbf{t}^T\\mathbf{t}+\\frac{\\lambda}{2}\\mathbf{a}^T \\mathbf{K} \\mathbf{a}$$\n",
    "\n",
    "令$J(\\mathbf{a})$对$\\mathbf{a}$的导数为0，我们可以得到：\n",
    "\n",
    "$$\\mathbf{a}=(\\mathbf{K}+\\lambda \\mathbf{I}_N)^{-1}\\mathbf{t}$$\n",
    "将其代入到线性回归模型中,那么对于新的输入x有\n",
    "$$y(x)=W^T\\phi(x)=\\mathbf{a}^T \\Phi \\phi (x)=\\mathbf{t}^T(\\mathbf{K}+\\lambda \\mathbf{I}_N)^{-1} \\mathbf{K}(X)\\\\\n",
    "\\Rightarrow y(x)=\\mathbf{K}(X)^T(\\mathbf{K}+\\lambda \\mathbf{I}_N)^{-1}\\mathbf{t}\n",
    "$$\n",
    "其中$\\mathbf{K}(X)=\\Phi \\phi (x)$的元素为$k_n(X)=k(X_n,x)$。这是因为\n",
    "$$\\Phi=\\begin{bmatrix}\\\\\n",
    "\\phi (X_1)^T \\\\\n",
    "\\vdots \\\\\n",
    "\\phi (X_n)^T\n",
    "\\end{bmatrix}\n",
    "$$\n",
    "\n",
    "因此线性回归模型完全可以用kernel function来表示\n",
    "$$y(x)=\\mathbf{K}(X)^T(\\mathbf{K}+\\lambda \\mathbf{I}_N)^{-1}\\mathbf{t}$$"
   ]
  },
  {
   "cell_type": "code",
   "execution_count": 3,
   "metadata": {
    "collapsed": false
   },
   "outputs": [
    {
     "data": {
      "text/plain": [
       "<matplotlib.collections.PathCollection at 0x108a73910>"
      ]
     },
     "execution_count": 3,
     "metadata": {},
     "output_type": "execute_result"
    },
    {
     "data": {
      "image/png": "[encoded data removed]",
      "text/plain": [
       "<matplotlib.figure.Figure at 0x108868e90>"
      ]
     },
     "metadata": {},
     "output_type": "display_data"
    }
   ],
   "source": [
    "%matplotlib inline\n",
    "import numpy as np\n",
    "from matplotlib import pyplot as plt\n",
    "\n",
    "data=np.loadtxt('nonlinear_data.txt') #数据的第一列表示x1，第二列表示x2,第三列表示对应的类别{1,2}\n",
    "X=data[:,0:2]\n",
    "\n",
    "\n",
    "#用0和1表示类别\n",
    "t=data[:,2]-1\n",
    "\n",
    "\n",
    "\n",
    "index=data[:,2]==2\n",
    "plt.scatter(data[index,0],data[index,1],color='b')\n",
    "index=data[:,2]==1\n",
    "plt.scatter(data[index,0],data[index,1],color='r')"
   ]
  },
  {
   "cell_type": "code",
   "execution_count": 4,
   "metadata": {
    "collapsed": false
   },
   "outputs": [
    {
     "name": "stdout",
     "output_type": "stream",
     "text": [
      "[ 0.03453649]\n"
     ]
    }
   ],
   "source": [
    "def kernel(x1,x2):\n",
    "    return np.square(np.dot(x1.T,x2))\n",
    "\n",
    "#构建kernel matrix\n",
    "K=np.zeros((len(X),len(X)))\n",
    "for i in xrange(len(X)):\n",
    "    for j in xrange(len(X)):\n",
    "        K[i,j]=kernel(X[i],X[j])\n",
    "        \n",
    "\n",
    "x=np.array([0,-1]) # 新的输入x\n",
    "\n",
    "\n",
    "k=np.zeros((len(X),1))\n",
    "for i in xrange(len(X)):\n",
    "    k[i]=kernel(x,X[i])\n",
    "    \n",
    "temp=np.dot(k.T,np.linalg.inv(K+0.5*np.identity(len(X))))\n",
    "y_x=np.dot(temp,t)\n",
    "print y_x"
   ]
  }
 ],
 "metadata": {
  "kernelspec": {
   "display_name": "Python 2",
   "language": "python",
   "name": "python2"
  },
  "language_info": {
   "codemirror_mode": {
    "name": "ipython",
    "version": 2
   },
   "file_extension": ".py",
   "mimetype": "text/x-python",
   "name": "python",
   "nbconvert_exporter": "python",
   "pygments_lexer": "ipython2",
   "version": "2.7.10"
  }
 },
 "nbformat": 4,
 "nbformat_minor": 0
}
