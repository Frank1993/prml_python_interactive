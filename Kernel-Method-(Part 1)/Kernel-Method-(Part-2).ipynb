{
 "cells": [
  {
   "cell_type": "markdown",
   "metadata": {},
   "source": [
    "# 常见的kernel 函数\n",
    "\n",
    "* liner kernel\n",
    "\n",
    "    $k(x,z)=<x,z>$\n",
    "    \n",
    "* polymonia kernel\n",
    "\n",
    "    $k(x,z)=(<x,z>+c)^r$\n",
    "    \n",
    "* Gaussian kernel （RBF kernel）\n",
    "\n",
    "    $k(x,z)=\\exp(\\frac{-\\vert x-z\\vert ^2}{2\\sigma ^2})$\n",
    "    "
   ]
  },
  {
   "cell_type": "markdown",
   "metadata": {},
   "source": [
    "高斯核的参数simga的寻找"
   ]
  },
  {
   "cell_type": "markdown",
   "metadata": {},
   "source": [
    "m和n的关系"
   ]
  },
  {
   "cell_type": "code",
   "execution_count": null,
   "metadata": {
    "collapsed": true
   },
   "outputs": [],
   "source": []
  }
 ],
 "metadata": {
  "kernelspec": {
   "display_name": "Python 2",
   "language": "python",
   "name": "python2"
  },
  "language_info": {
   "codemirror_mode": {
    "name": "ipython",
    "version": 2
   },
   "file_extension": ".py",
   "mimetype": "text/x-python",
   "name": "python",
   "nbconvert_exporter": "python",
   "pygments_lexer": "ipython2",
   "version": "2.7.10"
  }
 },
 "nbformat": 4,
 "nbformat_minor": 0
}
