{
 "cells": [
  {
   "cell_type": "markdown",
   "metadata": {},
   "source": [
    "# 一、聚类\n",
    "\n",
    "聚类是无监督学习的一种，我们的数据集只有原始观察数据，而不像在监督学习中每一个数据点还有对应的target label。我们的目标就是将这些数据点进行聚类，根据数据的分布将数据分配到多个类别中去。\n",
    "\n",
    "\n",
    " - 假定我们有N个D-维欧式变量$\\mathbf{x}$组成的数据集 ${\\mathbf{x}_1,,,,\\mathbf{x}_N}$,\n",
    " \n",
    " - 我们的目标是把数据集分成K个簇（我们可以认为K是预先给定的）。\n",
    " \n",
    " - 直观上讲,我们会认为由一组数据点构 成的一个聚类中,聚类内部点之间的距离应该小于数据点与聚类外部的点之间的距离。\n",
    " \n",
    " - 我们可以形式化地说明这个概念。引入一组D维向量μk,其中k = 1, . . . , K,且μk是与第k个聚类关相联。我们可以认为μk代表第k个簇的中心点。\n",
    " \n",
    " - 我们的目标是找到`向量集合{μk}，并且将数据点分配到k个簇中去，并且使得每个数据点到其最近的向量μk之间的距离的平方和最小。`\n",
    " \n",
    " "
   ]
  },
  {
   "cell_type": "markdown",
   "metadata": {},
   "source": [
    "## 1. 目标函数的确定\n",
    "\n",
    "为了方便我们的描述，我们可以先定义好一些记号来描述数据点和簇之间的分配关系。对于每一个数据点$\\mathbf{x}_n$,我们引入了对应的二项指示器变量集合 $r_{nk} \\in \\{0,1\\},k=1,....,K$。 如果数据点$\\mathbf{x}_n$被分配到第k个簇中去，那么$r_{nk}=1$ 并且$r_{nj}=0,j \\neq k$。因此我们可以定义目标函数（objective function），有时候被称为失真函数(distortion measure)为：\n",
    "\n",
    "$$\\mathbf{J}=\\sum_{n=1}^N \\sum_{k=1}^K r_{nk} \\vert \\mathbf{x}_n - \\mu _k\\vert^2$$\n",
    "\n",
    "从上面的定义可以看出，目标函数被定义为每一个数据点到它所在簇的中心点的距离的平方和。我们的目标是找到合适的$\\{r_{nk}\\}$以及$\\{\\mu _k\\}$使得目标函数最小。"
   ]
  },
  {
   "cell_type": "markdown",
   "metadata": {},
   "source": [
    "## 2.最小化目标函数\n",
    "\n",
    "目标函数与两个参数有关， $r_{nk}$以及$\\mu_k$。我们可以利用两步迭代过程来优化目标函数，在第一步中对$r_{nk}$进行优化，在第二步中对$\\mu_k$进行优化。\n",
    "\n",
    "> 首先我们为$\\mu_k$设定初始值。\n",
    "\n",
    ">> 在第一步中保持$\\mu_k$不变，找出使得J最小的$r_{nk}$\n",
    "\n",
    ">> 在第二步中保持$r_{nk}$不变，找出使得J最小化的$\\mu_k$。\n",
    "\n",
    "> 重复以上两步优化过程直至收敛"
   ]
  },
  {
   "cell_type": "markdown",
   "metadata": {},
   "source": [
    "## 3. 关于$r_{nk}$对J进行优化\n",
    "\n",
    "$$\\mathbf{J}=\\sum_{n=1}^N \\sum_{k=1}^K r_{nk} \\vert \\mathbf{x}_n - \\mu _k\\vert^2$$\n",
    "\n",
    "因为每一个数据点的$r_{nk}$是相互独立的，因此对于不同的n我们可以选择我们选择使得 $$\\vert \\mathbf{x}_n - \\mu _k\\vert^2$$最小的的k值并且使得$r_{nk}=1,r_{nj}=0,j \\neq k$。简单来说，这一步就是将第n个数据点分配给离它最近的簇的中心点。\n",
    "\n",
    "更一般化来说，上述过程可以表述为：\n",
    "\n",
    "$$\n",
    " r_{nk} =\n",
    "  \\begin{cases}\n",
    "    1       & \\quad \\text{if } k=arg min_j \\vert \\mathbf{x}_n - \\mu _k\\vert^2\\\\\n",
    "    0  & \\quad \\text{otherwise}\\\\\n",
    "  \\end{cases}\n",
    "$$"
   ]
  },
  {
   "cell_type": "markdown",
   "metadata": {},
   "source": [
    "## 4.关于$\\mu_k$对J进行优化\n",
    "\n",
    "保持$r_{nk}$不变对$\\mu_k$进行优化。目标函数是$\\mu_k$的二次函数，我们可以令目标函数对$\\mu_k$的求导为0，从而得到：\n",
    "\n",
    "$$\n",
    "2\\sum_{n=1}^N r_{nk}(\\mathbf{x}_n-\\mu_k)=0\\\\\n",
    "\\Rightarrow\\\\\n",
    "\\mu_k=\\frac{\\sum_n r_{nk} \\mathbf{x}_n}{\\sum_nr_{nk}}\n",
    "$$\n",
    "\n",
    "从上式可以看出，$\\mu_k$等于所有分配到簇k的数据点的均值。"
   ]
  },
  {
   "cell_type": "markdown",
   "metadata": {},
   "source": [
    "## 5.对于k-means算法过程的总结\n",
    "\n",
    "1. 任意选择k个中心点\n",
    "2. 将每个点分配到离其最近的簇中\n",
    "3.将第k个簇的中心点设为该簇中所有数据点的均值\n",
    "4.如果不收敛，重复2、3、4\n"
   ]
  },
  {
   "cell_type": "markdown",
   "metadata": {},
   "source": [
    "## 6.k-means算法的收敛问题\n",
    "\n",
    "因为迭代过程中的每一步都在减少J值，所以该算法一定可以收敛。但是有可能改算法只是找到J局部最优解而非全局最优解。"
   ]
  },
  {
   "cell_type": "markdown",
   "metadata": {},
   "source": [
    "## 7. python 实现"
   ]
  },
  {
   "cell_type": "code",
   "execution_count": 1,
   "metadata": {
    "collapsed": true
   },
   "outputs": [],
   "source": [
    "%matplotlib inline\n",
    "import numpy as np\n",
    "from matplotlib import pyplot as plt"
   ]
  },
  {
   "cell_type": "markdown",
   "metadata": {},
   "source": [
    "在这里我们使用美国黄石公园的[old faithful](http://www.stat.cmu.edu/~larry/all-of-statistics/=data/faithful.dat) 数据"
   ]
  },
  {
   "cell_type": "code",
   "execution_count": 21,
   "metadata": {
    "collapsed": false
   },
   "outputs": [],
   "source": [
    "s=np.loadtxt('/Users/hu/Desktop/old_faithful.txt')[:,1:]"
   ]
  },
  {
   "cell_type": "code",
   "execution_count": 22,
   "metadata": {
    "collapsed": false
   },
   "outputs": [
    {
     "data": {
      "text/plain": [
       "<matplotlib.collections.PathCollection at 0x109ab8cd0>"
      ]
     },
     "execution_count": 22,
     "metadata": {},
     "output_type": "execute_result"
    },
    {
     "data": {
      "image/png": "[encoded data removed]",
      "text/plain": [
       "<matplotlib.figure.Figure at 0x10999f350>"
      ]
     },
     "metadata": {},
     "output_type": "display_data"
    }
   ],
   "source": [
    "#我们所需的数据在第一列和第二列，将其分别进行归一化\n",
    "d_1_max=np.max(s[:,0])\n",
    "d_1_min=np.min(s[:,0])\n",
    "d_2_max=np.max(s[:,1])\n",
    "d_2_min=np.min(s[:,1])\n",
    "plt.scatter(s[:,0]/(d_1_max-d_1_min),s[:,1]/(d_2_max-d_2_min))"
   ]
  },
  {
   "cell_type": "code",
   "execution_count": 50,
   "metadata": {
    "collapsed": false
   },
   "outputs": [
    {
     "data": {
      "image/png": "[encoded data removed]",
      "text/plain": [
       "<matplotlib.figure.Figure at 0x109c2f250>"
      ]
     },
     "metadata": {},
     "output_type": "display_data"
    }
   ],
   "source": [
    "fig=plt.figure()\n",
    "\n",
    "# 我们假定k-means算法的初始簇为两个，对这两个簇任意选择中心点\n",
    "mu_1=np.array([2.1,100])\n",
    "mu_2=np.array([4.9,40])\n",
    "plt.scatter(s[:,0]/(d_1_max-d_1_min),s[:,1]/(d_2_max-d_2_min))\n",
    "plt.scatter(mu_1[0,np.newaxis]/(d_1_max-d_1_min),mu_1[1,np.newaxis]/(d_2_max-d_2_min),c='r',marker='x',linewidths=4)\n",
    "plt.scatter(mu_2[0,np.newaxis]/(d_1_max-d_1_min),mu_2[1,np.newaxis]/(d_2_max-d_2_min),c='b',marker='x',linewidths=4)\n",
    "plt.show()"
   ]
  },
  {
   "cell_type": "code",
   "execution_count": 46,
   "metadata": {
    "collapsed": false
   },
   "outputs": [],
   "source": [
    "# 为每一个点分配簇\n",
    "\n",
    "#distance1 为各点到簇1 的距离平方值\n",
    "distance1=np.sum(np.square(s-mu_1),axis=1)\n",
    "distance2=np.sum(np.square(s-mu_2),axis=1)\n",
    "\n",
    "distance=np.hstack((distance1.reshape(len(distance1),1),distance2.reshape(len(distance1),1)))\n",
    "\n",
    "clsuterOfEachDataPoint=np.argmin(distance,axis=1)"
   ]
  },
  {
   "cell_type": "code",
   "execution_count": 49,
   "metadata": {
    "collapsed": false
   },
   "outputs": [
    {
     "data": {
      "image/png": "[encoded data removed]",
      "text/plain": [
       "<matplotlib.figure.Figure at 0x10992bcd0>"
      ]
     },
     "metadata": {},
     "output_type": "display_data"
    }
   ],
   "source": [
    "#将属于某个簇的所有数据点的均值作为新的簇的中心点\n",
    "\n",
    "dataPointOfCluster1=s[clsuterOfEachDataPoint==0]\n",
    "dataPointOfCluster2=s[clsuterOfEachDataPoint==1]\n",
    "\n",
    "mu_1=np.mean(dataPointOfCluster1,axis=0)\n",
    "mu_2=np.mean(dataPointOfCluster2,axis=0)\n",
    "\n",
    "figure=plt.figure()\n",
    "plt.scatter(s[:,0]/(d_1_max-d_1_min),s[:,1]/(d_2_max-d_2_min))\n",
    "plt.scatter(mu_1[0,np.newaxis]/(d_1_max-d_1_min),mu_1[1,np.newaxis]/(d_2_max-d_2_min),c='r',marker='x',linewidths=6)\n",
    "plt.scatter(mu_2[0,np.newaxis]/(d_1_max-d_1_min),mu_2[1,np.newaxis]/(d_2_max-d_2_min),c='b',marker='x',linewidths=6)\n",
    "plt.show()"
   ]
  },
  {
   "cell_type": "markdown",
   "metadata": {},
   "source": [
    "经过上面第一次迭代，中心点的位置基本处于两个簇的中心了，重复此过程，就能得到一个收敛解"
   ]
  },
  {
   "cell_type": "code",
   "execution_count": null,
   "metadata": {
    "collapsed": true
   },
   "outputs": [],
   "source": []
  }
 ],
 "metadata": {
  "kernelspec": {
   "display_name": "Python 2",
   "language": "python",
   "name": "python2"
  },
  "language_info": {
   "codemirror_mode": {
    "name": "ipython",
    "version": 2
   },
   "file_extension": ".py",
   "mimetype": "text/x-python",
   "name": "python",
   "nbconvert_exporter": "python",
   "pygments_lexer": "ipython2",
   "version": "2.7.10"
  }
 },
 "nbformat": 4,
 "nbformat_minor": 0
}
