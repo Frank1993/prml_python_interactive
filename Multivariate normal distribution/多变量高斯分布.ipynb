{
 "cells": [
  {
   "cell_type": "markdown",
   "metadata": {},
   "source": [
    "# 多变量正态分布\n",
    "\n",
    "\n",
    "单变量正态分布的分布函数为：\n",
    "\n",
    "$$f(x)=\\frac{1}{\\sqrt{2\\pi}\\sigma}\\exp{\\left( - \\frac{(x-\\mu)^2}{2\\sigma^2} \\right)}$$\n",
    "\n",
    "多变量正态分布的分布函数为：\n",
    "\n",
    "$$\n",
    "f(x)=\\frac{1}{(2\\pi)^{2/d}\\vert \\Sigma \\vert^{1/2}}\\exp \\left( -\\frac{1}{2}(x-\\bar{x})^T \\Sigma^{-1} (x-\\bar{x})\\right)\n",
    "$$\n",
    "\n",
    "相比单变量正态分布，多变量正态分布中的均值和方差有所不同\n",
    "\n",
    "> 每一个变量都有相应的均值，多个变量的均值组成了相应的均值向量\n",
    "> 方差用协方差矩阵表示，协方差矩阵对角线上元素表示每个变量的分布情况，其他元素表示元素之间的分布情况\n",
    "\n",
    "首先我们要了解多变量正态分布的基本几何含义/均值向量与协方差矩阵"
   ]
  },
  {
   "cell_type": "markdown",
   "metadata": {},
   "source": [
    "## 1.Euclidean Distance\n",
    "\n",
    "欧氏距离表示为：\n",
    "$$\\begin{Vmatrix}x-\\bar{x}\\end{Vmatrix}_{\\Sigma}^2=(x-\\bar{x})^T (x-\\bar{x})=k^2$$\n",
    "\n",
    "<img src='image1.png'>\n",
    "\n",
    "如上图所示，空间中其他点到一定点的欧氏距离可以表示为以该定点为中心的同心圆"
   ]
  },
  {
   "cell_type": "markdown",
   "metadata": {},
   "source": [
    "# 2.Mahalanobis Distance\n",
    "\n",
    "$$\\begin{Vmatrix}x-\\bar{x}\\end{Vmatrix}_{\\Sigma}^2=(x-\\bar{x})^T \\Sigma^{-1}(x-\\bar{x})=k^2$$\n",
    "\n",
    "covariance matrix\n",
    "$$\\Sigma=\\frac{1}{n}\\sum_{i=1}^{N}(x_i-\\bar{x})(x_i-\\bar{x})^T$$\n",
    "\n",
    "\n",
    "\n",
    "> 在数学中，$\\Sigma$为正半定或者正定矩阵即可，我们可以认为欧氏距离是马氏距离的特例，欧氏距离中的$\\Sigma$为单位矩阵\n",
    "\n"
   ]
  },
  {
   "cell_type": "markdown",
   "metadata": {},
   "source": [
    "# 2.1 对角化\n",
    "\n",
    "> 对角化定理\n",
    "\n",
    "如果A是一个d×d的实对成矩阵(real symmetric)，那么一定存在一个正交矩阵P使得 $P^TAP=D$ ,其中D是对角矩阵且其对角线上的元素为A的特征值\n",
    "\n",
    "> 证明 $\\Sigma$ 是一个对称矩阵\n",
    "\n",
    "$$\n",
    "\\Sigma ^T=\\left\\{ \\frac{1}{n}\\sum_{i=1}^{N}(x_i-\\bar{x})(x_i-\\bar{x})^T \\right\\}^T \\\\\n",
    "=\\frac{1}{n}\\sum_{i=1}^{N}\\left\\{ (x_i-\\bar{x})(x_i-\\bar{x})^T \\right\\}^T \\\\\n",
    "=\\frac{1}{n}\\sum_{i=1}^{N} \\left\\{ (x_i-\\bar{x}) ^T\\right\\}^T (x_i-\\bar{x})^T \\\\\n",
    "=\\frac{1}{n}\\sum_{i=1}^{N}(x_i-\\bar{x})(x_i-\\bar{x})^T \\\\\n",
    "=\\Sigma\n",
    "$$\n",
    "\n",
    "> $\\Sigma$的分解\n",
    "\n",
    "设$\\Sigma$可以分解为$\\Sigma=VDV^T$,其中V为$\\Sigma$的特征向量组成的矩阵，D为$\\Sigma$的特征值组成的对角矩阵\n",
    "\n",
    "$$\n",
    "V=[e_1,e_2,....e_d]\\\\\n",
    "D=diag\\{\\lambda_1,....,\\lambda_d\\}\\\\\n",
    "=\\begin{bmatrix}\\frac{1}{\\lambda_1}&\\cdots&0\\\\\\vdots &\\ddots&\\vdots\\\\0&\\cdots&\\frac{1}{\\lambda_d}\\end{bmatrix}\n",
    "$$\n",
    "\n",
    "那么$\\Sigma 的逆为$\n",
    "$$\n",
    "\\Sigma^{-1}=\\left( VDV^T\\right)^{-1}=(V^T)^{-1}D^{-1}V^{-1}\\\\\n",
    "=\\left( VDV^T\\right)^{-1}\\\\\n",
    "=(V^T)^{-1}D^{-1}V^{-1}\\\\\n",
    "=(V^{-1})^{-1}D^{-1}V^T\\\\\n",
    "=VD^{-1}V^T\\\\\n",
    "=[e_1,e_2,....e_d] \\begin{bmatrix}\\frac{1}{\\lambda_1}&\\cdots&0\\\\\\vdots &\\ddots&\\vdots\\\\0&\\cdots&\\frac{1}{\\lambda_d}\\end{bmatrix}  \\begin{bmatrix}e_1^T\\\\\\vdots\\\\e_d^T \\end{bmatrix}\\\\\n",
    "=\\left[ \\frac{e_1}{\\lambda_1},...\\frac{e_d}{\\lambda_d}\\right] \\begin{bmatrix}e_1^T\\\\\\vdots\\\\e_d^T \\end{bmatrix}\\\\\n",
    "=\\frac{1}{\\lambda_1}e_1e_1^T+\\frac{1}{\\lambda_2}e_2e_2^T+....+\\frac{1}{\\lambda_d}e_de_d^T\n",
    "$$"
   ]
  },
  {
   "cell_type": "markdown",
   "metadata": {},
   "source": [
    "# 2.2马氏距离的几何含义\n",
    "\n",
    "$$\n",
    "\\begin{Vmatrix}x-\\bar{x}\\end{Vmatrix}_{\\Sigma}^2 =\\\\\n",
    "(x-\\bar{x})^T \\Sigma^{-1}(x-\\bar{x}) \\\\\n",
    "=(x-\\bar{x})^T \\left(\\frac{1}{\\lambda_1}e_1e_1^T+ \\frac{1}{\\lambda_2}e_2e_2^T  \\right)(x-\\bar{x}) \\\\\n",
    "=\\frac{1}{\\lambda_1}(x-\\bar{x})^T e_1e_1^T(x-\\bar{x}) + \\frac{1}{\\lambda_2}(x-\\bar{x})^T e_2e_2^T(x-\\bar{x}) \\\\\n",
    "=\\frac{y_1^2}{(\\sqrt{\\lambda_1})^2} + \\frac{y_2^2}{(\\sqrt{\\lambda_2})^2}\n",
    "$$\n",
    "\n",
    "其中：\n",
    "\n",
    "$$\n",
    "(x-\\bar{x})^T e_1e_1^T(x-\\bar{x})\\\\\n",
    "=\\left\\{ (x-\\bar{x})^T e_1 \\right\\} \\left\\{ e_1^T(x-\\bar{x}) \\right\\} \\\\\n",
    "=\\left\\{ e_1^T(x-\\bar{x}) \\right\\}^T \\left\\{ e_1^T(x-\\bar{x}) \\right\\} \\\\\n",
    "=y_1^2\n",
    "$$\n",
    "\n",
    "\n",
    "$e_1^T(x-\\bar{x})$表示$(x-\\bar{x})$这个向量在$e_1$上的投影向量，用$y_1$表示，如下图所示：\n",
    "<img src='image3.png'>\n",
    "\n",
    "\n",
    "因此，马氏距离可以看成是以定点为中心的椭圆\n",
    "\n",
    "<img src='image2.png'>\n"
   ]
  },
  {
   "cell_type": "markdown",
   "metadata": {},
   "source": [
    "# 3. 多变量正态分布的推导\n",
    "\n",
    "多变量正态分布的分布函数可以认为是由多个相应的单变量的分布函数相乘得到的：\n",
    "\n",
    "<img src='image4.png'>\n",
    "\n"
   ]
  },
  {
   "cell_type": "markdown",
   "metadata": {},
   "source": [
    "## 4.python 演示\n",
    "\n",
    "## 4.1 实对称矩阵的分解\n"
   ]
  },
  {
   "cell_type": "code",
   "execution_count": 4,
   "metadata": {
    "collapsed": false
   },
   "outputs": [
    {
     "data": {
      "text/plain": [
       "array([[ 0.,  2.,  2.],\n",
       "       [ 2.,  0.,  2.],\n",
       "       [ 2.,  2.,  0.]])"
      ]
     },
     "execution_count": 4,
     "metadata": {},
     "output_type": "execute_result"
    }
   ],
   "source": [
    "import numpy as np\n",
    "A=np.array([[0,2,2],[2,0,2],[2,2,0]],dtype=np.float64)\n",
    "A"
   ]
  },
  {
   "cell_type": "code",
   "execution_count": 5,
   "metadata": {
    "collapsed": false
   },
   "outputs": [],
   "source": [
    "#利用numpy可以很简单地算出A的特征值和特征向量\n",
    "D,P=np.linalg.eigh(A)"
   ]
  },
  {
   "cell_type": "code",
   "execution_count": 8,
   "metadata": {
    "collapsed": false
   },
   "outputs": [
    {
     "data": {
      "text/plain": [
       "array([-2., -2.,  4.])"
      ]
     },
     "execution_count": 8,
     "metadata": {},
     "output_type": "execute_result"
    }
   ],
   "source": [
    "D #D为A的特征值"
   ]
  },
  {
   "cell_type": "code",
   "execution_count": 9,
   "metadata": {
    "collapsed": false
   },
   "outputs": [
    {
     "data": {
      "text/plain": [
       "array([[ 0.69868277,  0.42250331, -0.57735027],\n",
       "       [ 0.01655721, -0.81632869, -0.57735027],\n",
       "       [-0.71523999,  0.39382538, -0.57735027]])"
      ]
     },
     "execution_count": 9,
     "metadata": {},
     "output_type": "execute_result"
    }
   ],
   "source": [
    "P #P 是A的特征向量，是一个正交矩阵"
   ]
  },
  {
   "cell_type": "code",
   "execution_count": 11,
   "metadata": {
    "collapsed": false
   },
   "outputs": [
    {
     "data": {
      "text/plain": [
       "array([[  1.00000000e+00,   0.00000000e+00,   2.77555756e-16],\n",
       "       [  0.00000000e+00,   1.00000000e+00,  -1.66533454e-16],\n",
       "       [  2.77555756e-16,  -1.66533454e-16,   1.00000000e+00]])"
      ]
     },
     "execution_count": 11,
     "metadata": {},
     "output_type": "execute_result"
    }
   ],
   "source": [
    "np.dot(P,P.T)  #可见P与P.T 的乘积是一个单位矩阵"
   ]
  },
  {
   "cell_type": "markdown",
   "metadata": {},
   "source": [
    "## 4.2 多变量高斯分布的3D展示"
   ]
  },
  {
   "cell_type": "code",
   "execution_count": 12,
   "metadata": {
    "collapsed": false
   },
   "outputs": [],
   "source": [
    "%matplotlib inline\n",
    "import numpy as np\n",
    "from matplotlib import pyplot as plt\n",
    "from scipy.stats import multivariate_normal\n",
    "from mpl_toolkits.mplot3d import Axes3D\n",
    "from matplotlib import cm\n",
    "from matplotlib.ticker import LinearLocator, FormatStrFormatter"
   ]
  },
  {
   "cell_type": "code",
   "execution_count": 13,
   "metadata": {
    "collapsed": false
   },
   "outputs": [
    {
     "data": {
      "image/png": "[encoded data removed]",
      "text/plain": [
       "<matplotlib.figure.Figure at 0x117c4dd90>"
      ]
     },
     "metadata": {},
     "output_type": "display_data"
    }
   ],
   "source": [
    "#产生一个从二维的从-3到3的meshgrid\n",
    "x1=np.arange(-3,3,0.2)\n",
    "\n",
    "x2=np.arange(-3,3,0.2)\n",
    "\n",
    "X1,X2=np.meshgrid(x1,x2)\n",
    "\n",
    "\n",
    "#X_combine是将X1,X2合并成为一个新的矩阵，矩阵的每一个元素是由X1和X2的相同位置的元素组成的一个2维矩阵，这个2维矩阵就是我们计算\n",
    "#多变量高斯分布的输入(在我们的实例中是一个2变量)\n",
    "#下面的这种合并方式具有一般性，应该记住\n",
    "X_combine=np.vstack(([X1.T], [X2.T])).T\n",
    "\n",
    "\n",
    "#计算每一个点的相应多变量高斯分布的概率值\n",
    "c=multivariate_normal.pdf(X_combine,[1,1],[[0.5,0.4],[0.4,0.5]])\n",
    "\n",
    "\n",
    "\n",
    "#绘制图形\n",
    "fig = plt.figure()\n",
    "ax = fig.gca(projection='3d')\n",
    "\n",
    "surf = ax.plot_surface(X1, X2, c, rstride=1, cstride=1, cmap=cm.coolwarm,\n",
    "                       linewidth=0, antialiased=False)\n",
    "ax.set_zlim(0, 1.01)\n",
    "\n",
    "ax.zaxis.set_major_locator(LinearLocator(10))\n",
    "ax.zaxis.set_major_formatter(FormatStrFormatter('%.02f'))\n",
    "\n",
    "fig.colorbar(surf, shrink=0.5, aspect=5)\n",
    "plt.show()\n",
    "\n",
    "#如果去掉 %matplotlib inline 可以打开一个图形窗口，在这个窗口里可以放大和旋转这个3D图形"
   ]
  },
  {
   "cell_type": "markdown",
   "metadata": {},
   "source": [
    "## 4.3 产生多变量正态分布的数据\n",
    "\n",
    "我们在机器学习中经常假设数据满足多变量正态分布，因此我们需要能够产生需要的数据"
   ]
  },
  {
   "cell_type": "code",
   "execution_count": 30,
   "metadata": {
    "collapsed": false
   },
   "outputs": [],
   "source": [
    "#确定两个不同的2变量高斯分布的均值向量和协方差矩阵\n",
    "mean1 = [-1, 2]\n",
    "mean2 = [4, -6]\n",
    "cov1 = [[1.0,0.8], [0.8,1.0]]\n",
    "cov2=  [[0.5,0.2],[0.2,0.5]]\n",
    "\n",
    "#为每一种分布产生150个数据\n",
    "data1=np.random.multivariate_normal(mean1,cov1,150)\n",
    "data2=np.random.multivariate_normal(mean2,cov2,150)\n",
    "\n"
   ]
  },
  {
   "cell_type": "code",
   "execution_count": 31,
   "metadata": {
    "collapsed": false
   },
   "outputs": [
    {
     "data": {
      "image/png": "[encoded data removed]",
      "text/plain": [
       "<matplotlib.figure.Figure at 0x11ad14810>"
      ]
     },
     "metadata": {},
     "output_type": "display_data"
    }
   ],
   "source": [
    "fig=plt.figure()\n",
    "plt.plot(data1[:,0],data1[:,1],'rx')\n",
    "plt.plot(data2[:,0],data2[:,1],'bo')\n",
    "\n",
    "plt.xlim(-6, 10)\n",
    "plt.ylim(-10, 6)\n",
    "plt.show()"
   ]
  },
  {
   "cell_type": "markdown",
   "metadata": {},
   "source": [
    "从上图可以看出，多变量高斯分布的数据多集中在均值向量处，协方差矩阵印象数据点的倾斜程度和离散程度"
   ]
  },
  {
   "cell_type": "code",
   "execution_count": null,
   "metadata": {
    "collapsed": true
   },
   "outputs": [],
   "source": []
  }
 ],
 "metadata": {
  "kernelspec": {
   "display_name": "Python 2",
   "language": "python",
   "name": "python2"
  },
  "language_info": {
   "codemirror_mode": {
    "name": "ipython",
    "version": 2
   },
   "file_extension": ".py",
   "mimetype": "text/x-python",
   "name": "python",
   "nbconvert_exporter": "python",
   "pygments_lexer": "ipython2",
   "version": "2.7.10"
  }
 },
 "nbformat": 4,
 "nbformat_minor": 0
}
