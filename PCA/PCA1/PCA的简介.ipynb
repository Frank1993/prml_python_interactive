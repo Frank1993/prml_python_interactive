{
 "cells": [
  {
   "cell_type": "markdown",
   "metadata": {},
   "source": [
    "# 一、预备知识点\n",
    "\n",
    "## 1.样本平均\n",
    "样本平均是指在给定n个样本之后，求取这n个样本的均值。\n",
    "\n",
    "给定样本 $\\mathbf{x}_1,\\mathbf{x}_2,...,\\mathbf{x}_n$\n",
    "\n",
    "注意$\\mathbf{x}_j$是多维数据点，假设输入数据有d维，那么\n",
    "\n",
    "$$\\mathbf{x}_j=\\begin{bmatrix}\n",
    "x_{j1}\\\\\n",
    "\\vdots\\\\\n",
    "x_{jd}\\\\\n",
    "\\end{bmatrix}\n",
    "$$\n",
    "\n",
    "sample mean 被定义为：\n",
    "\n",
    "$$\n",
    "\\bar{\\mathbf{x}}=\\frac{\\mathbf{x}_1+\\mathbf{x}_2+...+\\mathbf{x}_n}{n}\\\\\n",
    "=\\frac{\\sum_{i=1}^{n} \\mathbf{x}_i}{n}\n",
    "$$"
   ]
  },
  {
   "cell_type": "markdown",
   "metadata": {},
   "source": [
    "## 2.向量投影 (vector projection)\n",
    "\n",
    "向量投影是指将某个向量投影到另一个向量的方向上的长度。\n",
    "\n",
    "<img src='image2.png'>\n",
    "对于一个向量 $\\mathbf{x}$要求其在某个向量$\\mathbf{y}$的投影，先取$\\mathbf{y}$的单位向量$\\mathbf{e}$,$\\mathbf{e}^T \\mathbf{x}$即为$\\mathbf{x}$在该方向上的投影"
   ]
  },
  {
   "cell_type": "markdown",
   "metadata": {},
   "source": [
    "## 3.矩阵计算\n",
    "\n",
    "<img src='image3.png'>\n",
    "\n",
    "下面看几个比较常见的微分如何计算：\n",
    "\n",
    "1.给定 $\\mathbf{e}=[e_1,e_2,...e_n]^T$\n",
    "\n",
    "$$f(\\mathbf{e})=e_1^2+e_2^2+...+e_n^2=\\mathbf{e}^T\\mathbf{e}$$\n",
    "\n",
    "那么：\n",
    "\n",
    "$$\n",
    "\\frac{\\partial{\\mathbf{e}^T\\mathbf{e}}}{\\partial{\\mathbf{e}}}=\\begin{bmatrix}\n",
    "2e_1\\\\\n",
    "\\vdots \\\\\n",
    "2e_n\\\\\n",
    "\\end{bmatrix}=2\\mathbf{e}\n",
    "$$\n",
    "\n",
    "又因为 $\\mathbf{e}^T\\mathbf{e}=\\mathbf{e}\\mathbf{e}^T$\n",
    "\n",
    "所以：\n",
    "\n",
    "$$\n",
    "\\frac{\\partial{\\mathbf{e}\\mathbf{e}^T}}{\\partial{\\mathbf{e}}}=\\begin{bmatrix}\n",
    "2e_1\\\\\n",
    "\\vdots \\\\\n",
    "2e_n\\\\\n",
    "\\end{bmatrix}=2\\mathbf{e}\n",
    "$$\n",
    "\n"
   ]
  },
  {
   "cell_type": "markdown",
   "metadata": {},
   "source": [
    "2.对于类似二次型的求导\n",
    "\n",
    "\n",
    "$$\\frac{\\partial{\\mathbf{e}^T \\mathbf{A} \\mathbf{e}}}{\\mathbf{e}}=(\\mathbf{A}+\\mathbf{A}^T)\\mathbf{e}$$\n",
    "\n",
    "如果A是对称阵，那么：\n",
    "\n",
    "$$\\frac{\\partial{\\mathbf{e}^T \\mathbf{A} \\mathbf{e}}}{\\mathbf{e}}=2\\mathbf{A}\\mathbf{e}$$"
   ]
  },
  {
   "cell_type": "markdown",
   "metadata": {},
   "source": [
    "# 二、什么是PCA\n",
    "\n",
    "PCA(Principal conponent analysis)，是指通过将原始数据表示为一个新的正交基上的点来减少数据维度。\n",
    "\n",
    "<img src='image4.png'>\n",
    "\n",
    "主成分分析法的首要工作是找到原始数据的若干个主成分，按照重要性的不同依次被称为第一主成分、第二主成分等。\n",
    "\n",
    "主成分可以被认为是原始数据空间中的一个方向，原始数据可以通过投影到这个方向上来降低维度。因为原数据空间中有无数的方向，能够使得原数据在投影之后分布的原离散越好，因为这样可以增加数据的可分性。能够使得原始数据投影后离散度(方差)最大的方向被称为第一主成分，与第一主成分正交且能使得原始数据投影后离散度最大的方向被称为第二主成分，依次类推。\n",
    "\n",
    "<img src='image5.png'>\n",
    "\n",
    "\n",
    "## 1.计算不同投影方向的离散程度\n",
    "\n",
    "对于任意的投影方向$\\mathbf{e}$，我们可以如下来计算器方差：\n",
    "\n",
    "<img src='image6.png'>\n",
    "\n",
    "<img src='image7.png'>\n",
    "\n",
    "其中$\\Sigma$被称为协方差，可由原始数据直接计算得到\n",
    "\n",
    "## 2. 计算主成分\n",
    "\n",
    "第一主成分可以如下求取：\n",
    "<img src='image8.png'>\n",
    "\n",
    "我们使用拉格朗日乘数法:\n",
    "\n",
    "$$\n",
    "f(\\mathbf{e},\\lambda)=\\mathbf{e}^T \\Sigma \\mathbf{e} + \\lambda (1-\\mathbf{e}^T\\mathbf{e})\\\\\n",
    "=\\mathbf{e}^T \\Sigma \\mathbf{e} + \\lambda - \\lambda \\mathbf{e}^T\\mathbf{e}\n",
    "$$\n",
    "\n",
    "对$\\mathbf{e}$求导：\n",
    "\n",
    "$$\n",
    "\\frac{\\partial{f}}{\\partial{\\mathbf{e}}} = 2\\Sigma \\mathbf{e} - 2\\lambda \\mathbf{e} =0\\\\\n",
    "\\\\\n",
    "\\Rightarrow\\\\\n",
    "\\\\\n",
    "\\Sigma \\mathbf{e}=\\lambda \\mathbf{e}\n",
    "$$\n",
    "\n",
    "可见$\\lambda$是$\\Sigma$的特征值，$\\mathbf{e}$是$\\Sigma$的特征向量\n",
    "\n",
    "同时因为 $\\mathbf{e}^T\\mathbf{e}=1$\n",
    "\n",
    "所以：\n",
    "\n",
    "$$\n",
    "\\mathbf{e}^T\\Sigma \\mathbf{e}=\\lambda \\mathbf{e}^T\\mathbf{e}=\\lambda \\\\\n",
    "\\\\\n",
    "\\Rightarrow\\\\\n",
    "\\\\\n",
    "\\lambda=\\mathbf{e}^T\\Sigma \\mathbf{e}\n",
    "$$\n",
    "\n",
    "可见 $\\lambda$等于在$\\mathbf{e}$方向上的投影后的方差，又因为$\\lambda$是$\\Sigma$的特征值，所以第一主成分的方向是协方差矩阵最大特征值所对应的特征向量\n",
    "\n",
    "又因为矩阵的若干个特征向量相互正交，满足主成分的相互正交的特征，所以我们可以总结到:\n",
    "\n",
    "\n",
    ">对于这样一个特征值问题\n",
    "> $$\\Sigma \\mathbf{e}=\\lambda \\mathbf{e}, \\vert \\mathbf{e} \\vert=1$$\n",
    "> 第i个主成分向量就是第i大特征值所对应的特征向量\n",
    ">\n",
    "> $\\lambda_i$:第i个主成分的离散程度\n",
    ">\n",
    "> $\\mathbf{e}_i$:第i大主成分向量\n"
   ]
  },
  {
   "cell_type": "markdown",
   "metadata": {},
   "source": [
    "# 三、用python来计算主成分"
   ]
  },
  {
   "cell_type": "code",
   "execution_count": 4,
   "metadata": {
    "collapsed": true
   },
   "outputs": [],
   "source": [
    "%matplotlib inline\n",
    "import numpy as np\n",
    "from matplotlib import pyplot as plt"
   ]
  },
  {
   "cell_type": "markdown",
   "metadata": {},
   "source": [
    "我们用到的数据集是elements of statistical learning 中的zipcode 数据集，在这本书的[官网](http://statweb.stanford.edu/~tibs/ElemStatLearn/)data分页中可以下载"
   ]
  },
  {
   "cell_type": "code",
   "execution_count": 5,
   "metadata": {
    "collapsed": false
   },
   "outputs": [
    {
     "data": {
      "text/plain": [
       "<matplotlib.image.AxesImage at 0x10bbbb6d0>"
      ]
     },
     "execution_count": 5,
     "metadata": {},
     "output_type": "execute_result"
    },
    {
     "data": {
      "image/png": "[encoded data removed]",
      "text/plain": [
       "<matplotlib.figure.Figure at 0x109239b10>"
      ]
     },
     "metadata": {},
     "output_type": "display_data"
    }
   ],
   "source": [
    "data=np.loadtxt('./zip.train')\n",
    "\n",
    "#我们用数字4来展示PCA的主成分\n",
    "digit_4=data[data[:,0]==4]\n",
    "\n",
    "#这个数据集中每一行的第一列表示的是该行对应的数字，余下列表示的是该输入数据\n",
    "plt.imshow(digit_4[0,1:].reshape(16,16),cmap='gray')"
   ]
  },
  {
   "cell_type": "code",
   "execution_count": 7,
   "metadata": {
    "collapsed": false
   },
   "outputs": [
    {
     "data": {
      "text/plain": [
       "<matplotlib.image.AxesImage at 0x10bf15810>"
      ]
     },
     "execution_count": 7,
     "metadata": {},
     "output_type": "execute_result"
    },
    {
     "data": {
      "image/png": "[encoded data removed]",
      "text/plain": [
       "<matplotlib.figure.Figure at 0x10bb72f50>"
      ]
     },
     "metadata": {},
     "output_type": "display_data"
    }
   ],
   "source": [
    "target_4=digit_4[:,0]\n",
    "data_4=digit_4[:,1:]\n",
    "\n",
    "#计算协方差矩阵\n",
    "cov=np.cov(data_4,rowvar=False)\n",
    "\n",
    "#计算协方差矩阵的特征值和特征向量\n",
    "evals, evecs = np.linalg.eigh(cov)\n",
    "\n",
    "#得到特征值排序的索引\n",
    "idx=np.argsort(evals)\n",
    "\n",
    "#得到特征值降序排序的索引\n",
    "idx=idx[::-1]\n",
    "\n",
    "#将特征向量和特征值按照上述索引进行排列\n",
    "evecs = evecs[:,idx]\n",
    "\n",
    "evals = evals[idx]\n",
    "\n",
    "#绘制第一主成分\n",
    "plt.imshow(evecs[:,0].reshape(16,16),cmap='gray')\n"
   ]
  }
 ],
 "metadata": {
  "kernelspec": {
   "display_name": "Python 2",
   "language": "python",
   "name": "python2"
  },
  "language_info": {
   "codemirror_mode": {
    "name": "ipython",
    "version": 2
   },
   "file_extension": ".py",
   "mimetype": "text/x-python",
   "name": "python",
   "nbconvert_exporter": "python",
   "pygments_lexer": "ipython2",
   "version": "2.7.10"
  }
 },
 "nbformat": 4,
 "nbformat_minor": 0
}
