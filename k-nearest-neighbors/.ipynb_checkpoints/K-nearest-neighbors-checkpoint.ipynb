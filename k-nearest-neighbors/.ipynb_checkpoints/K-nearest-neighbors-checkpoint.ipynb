{
 "cells": [
  {
   "cell_type": "markdown",
   "metadata": {},
   "source": [
    "# K近邻算法一览\n",
    "\n",
    "<img src='image1.png'>\n",
    "\n",
    "从上图看出，我们要判断某个点(称为星点)所属的分类，选择与其相近的11的数据点，在这11个点中有7个蓝色类别的点，4个黑色类别的点，所以星点被判为蓝色类别。\n",
    "\n",
    "具体的判定规则如下：\n",
    "\n",
    "<img src='image2.png'>\n",
    "\n",
    "虽然K近邻算法计算量比较大，但是很明显的一个优点是它适用于决策边界非常不规律的数据集,比如下面这个三类别的模拟数据：\n",
    "\n",
    "<img src='image3.png'>\n",
    "\n",
    "\n",
    "knn算法中，我们需要找到与该点最相近的k个数据点，所谓相近需要用两点之间的距离来刻画。一般有欧氏距离和马氏距离两种。\n",
    "\n",
    "而k的选择也会影响我们算法的正确率，因此对于knn算法中的k以及距离的选择总结如下：\n",
    "\n",
    "<img src='image5.png'>\n",
    "\n",
    "\n",
    "我们一般使用K-fold 交叉验证来挑选合适的k值：\n",
    "<img src='image4.png'>"
   ]
  },
  {
   "cell_type": "markdown",
   "metadata": {},
   "source": [
    "# knn算法的python实现\n",
    "\n",
    "我们使用的训练数据源自 [Elements of Statistic Learning](http://statweb.stanford.edu/~tibs/ElemStatLearn/)的zip code数据集，在页面的最下方找到zip code 下载即可，包括训练数据和测试数据。\n",
    "\n",
    "zip.train 文件的大小为7291×257，该文件中包含了7291个数字的图片，每行表示一个数字，每行的第一列表示该行对应的数字(即label),每个图片为16×16共256个维度,所以每行长度为257。\n",
    "\n"
   ]
  },
  {
   "cell_type": "code",
   "execution_count": 1,
   "metadata": {
    "collapsed": true
   },
   "outputs": [],
   "source": [
    "%matplotlib inline\n",
    "import numpy as np\n",
    "from matplotlib import pyplot as plt\n",
    "from sklearn import neighbors\n",
    "from sklearn.cross_validation import KFold\n",
    "\n",
    "#from sklearn import cross_validation"
   ]
  },
  {
   "cell_type": "code",
   "execution_count": 2,
   "metadata": {
    "collapsed": false
   },
   "outputs": [
    {
     "data": {
      "text/plain": [
       "<matplotlib.image.AxesImage at 0x10e54c690>"
      ]
     },
     "execution_count": 2,
     "metadata": {},
     "output_type": "execute_result"
    },
    {
     "data": {
      "image/png": "[encoded data removed]",
      "text/plain": [
       "<matplotlib.figure.Figure at 0x10ade8690>"
      ]
     },
     "metadata": {},
     "output_type": "display_data"
    }
   ],
   "source": [
    "# 导入训练数据\n",
    "\n",
    "zip_train=np.loadtxt('./zip.train')\n",
    "train_samples=zip_train[:,1:]\n",
    "train_labels=zip_train[:,0]\n",
    "\n",
    "\n",
    "#导入测试数据\n",
    "zip_test=np.loadtxt('./zip.test')\n",
    "test_samples=zip_test[:,1:]\n",
    "test_labels=zip_test[:,0]\n",
    "\n",
    "#展示训练数据的第一行：\n",
    "plt.imshow(train_samples[0].reshape((16,16)),cmap='gray')\n"
   ]
  },
  {
   "cell_type": "code",
   "execution_count": 3,
   "metadata": {
    "collapsed": false
   },
   "outputs": [],
   "source": [
    "train_accs=[]\n",
    "test_accs=[]\n",
    "for k in xrange(1,7):\n",
    "    clf=neighbors.KNeighborsClassifier(n_neighbors=k,n_jobs=-1)\n",
    "    clf.fit(train_samples,train_labels)\n",
    "    train_predict=clf.predict(train_samples)\n",
    "    test_predict=clf.predict(test_samples)\n",
    "    \n",
    "    train_acc=np.mean(train_predict==train_labels)\n",
    "    test_acc=np.mean(test_predict==test_labels)\n",
    "    \n",
    "    train_accs.append(train_acc)\n",
    "    test_accs.append(test_acc)\n",
    "    \n",
    "    "
   ]
  },
  {
   "cell_type": "code",
   "execution_count": 4,
   "metadata": {
    "collapsed": false
   },
   "outputs": [],
   "source": [
    "kf = KFold(len(train_samples), n_folds=5,shuffle=True)\n",
    "\n",
    "k_fold_acc=np.zeros((6,5))\n",
    "\n",
    "for k in xrange(1,7):\n",
    "    #predict_labels=np.zeros(len(train_samples))\n",
    "    i=0\n",
    "    for trainIndex,testIndex in kf:\n",
    "        \n",
    "        trainsamp=train_samples[trainIndex,:]\n",
    "        trainLabels=train_labels[trainIndex]\n",
    "        \n",
    "        testSamp=train_samples[testIndex,:]\n",
    "        \n",
    "        testLabels=train_labels[testIndex]\n",
    "        \n",
    "        \n",
    "        clf=neighbors.KNeighborsClassifier(n_neighbors=k,n_jobs=-1)\n",
    "        clf.fit(trainsamp,trainLabels)\n",
    "        \n",
    "        predict_values=clf.predict(testSamp)\n",
    "        accrate=np.mean(testLabels==predict_values)\n",
    "        k_fold_acc[k-1,i]=accrate\n",
    "        i+=1\n",
    "    \n",
    "\n",
    "kfold_accu=k_fold_acc.mean(axis=1)      \n",
    "kfold_accu_std=k_fold_acc.std(axis=1)"
   ]
  },
  {
   "cell_type": "code",
   "execution_count": 8,
   "metadata": {
    "collapsed": false
   },
   "outputs": [
    {
     "data": {
      "image/png": "[encoded data removed]",
      "text/plain": [
       "<matplotlib.figure.Figure at 0x1136f6610>"
      ]
     },
     "metadata": {},
     "output_type": "display_data"
    }
   ],
   "source": [
    "fig=plt.figure()\n",
    "plt.xlim(-2,7)\n",
    "plt.ylim(0.9,1.05)\n",
    "plt.plot([1,2,3,4,5,6],train_accs,'r-')\n",
    "plt.plot([1,2,3,4,5,6],test_accs,'b-')\n",
    "plt.errorbar([1,2,3,4,5,6],kfold_accu,yerr=kfold_accu_std,ecolor='y')\n",
    "plt.legend(('train','test','kfold'))\n",
    "plt.show()"
   ]
  },
  {
   "cell_type": "code",
   "execution_count": null,
   "metadata": {
    "collapsed": true
   },
   "outputs": [],
   "source": []
  }
 ],
 "metadata": {
  "kernelspec": {
   "display_name": "Python 2",
   "language": "python",
   "name": "python2"
  },
  "language_info": {
   "codemirror_mode": {
    "name": "ipython",
    "version": 2
   },
   "file_extension": ".py",
   "mimetype": "text/x-python",
   "name": "python",
   "nbconvert_exporter": "python",
   "pygments_lexer": "ipython2",
   "version": "2.7.10"
  }
 },
 "nbformat": 4,
 "nbformat_minor": 0
}
