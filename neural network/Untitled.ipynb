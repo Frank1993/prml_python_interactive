{
 "cells": [
  {
   "cell_type": "markdown",
   "metadata": {},
   "source": [
    "feedforward network 是指所有的输入到中间层到输出，但是输出并没有任何反馈给输出\n",
    "\n",
    "一般的神经网络以及卷积神经网络都是feedforward network， 而输出对输入有反馈的网络被称为recurrent network （递归神经网络）\n",
    "\n",
    "例如，我们可能使用三个函数的级联来表示一个函数：\n",
    "\n",
    "$f (x)=f^{(3)}(f^{(2)}(f^{(1)}(x))) $\n",
    "\n",
    "\n",
    "这种链式结构是最常见的神经网络结构。\n",
    "\n",
    "\n",
    "feedforward network 的最后一层被称为 output layer\n",
    "\n",
    "训练数据只要求output layer能够产生和label相接近的输出即可，其并不要求中间的各个layer产生何种输出，因此算法要能够自动决定这些中间layer产生各种输出使得output layer 能够和label拟合。\n",
    "\n",
    "这些中间layer因为不直接由训练数据决定，因此叫做hidden layer\n"
   ]
  },
  {
   "cell_type": "code",
   "execution_count": null,
   "metadata": {
    "collapsed": true
   },
   "outputs": [],
   "source": []
  }
 ],
 "metadata": {
  "kernelspec": {
   "display_name": "Python 2",
   "language": "python",
   "name": "python2"
  },
  "language_info": {
   "codemirror_mode": {
    "name": "ipython",
    "version": 2
   },
   "file_extension": ".py",
   "mimetype": "text/x-python",
   "name": "python",
   "nbconvert_exporter": "python",
   "pygments_lexer": "ipython2",
   "version": "2.7.10"
  }
 },
 "nbformat": 4,
 "nbformat_minor": 0
}
