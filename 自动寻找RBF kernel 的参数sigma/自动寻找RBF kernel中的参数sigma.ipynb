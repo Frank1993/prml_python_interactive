{
 "cells": [
  {
   "cell_type": "markdown",
   "metadata": {},
   "source": [
    "# RBF kernel\n",
    "\n",
    "## 一、数学表达式与一些简单的性质\n",
    "RBF kennel 又被称为高斯kernel，其数学表达式为:\n",
    "\n",
    "$$k(x,z)=\\exp(-\\frac{\\begin{Vmatrix}x-z \\end{Vmatrix} ^2}{2\\sigma^2})$$\n",
    "\n",
    "通过数学表达式我们可以发现，任何一个原空间中的数据点被映射到特征空间之中，其到特征空间原点的距离的平方为：\n",
    "\n",
    "$$norm^2=\\phi(x)^T\\phi(x)=k(x,x)=\\exp(-\\frac{\\begin{Vmatrix}x-x \\end{Vmatrix} ^2}{2\\sigma^2})=1$$\n",
    "\n",
    "另外，任意两个数据点在 特征空间中的相似可以用其向量(由特征空间的原点指向数据点)的夹角余弦表示：\n",
    "\n",
    "$$\\cos (\\theta)=\\frac{\\phi(x_1)^T \\phi(x_2)}{\\begin{Vmatrix}\\phi(x_1)\\end{Vmatrix}\\begin{Vmatrix}\\phi(x_2)\\end{Vmatrix}}=\\phi(x_1)^T \\phi(x_2)=k(x_1,x_2)$$\n",
    "\n",
    "所以任意两点之间的余弦就等于kernel 函数的数值\n",
    "\n",
    "\n",
    "所以RBF kernel的性质非常得优雅：\n",
    "\n",
    "> 在特征空间中，每一个数据点的norm都为1且为正\n",
    "> 所以每一个数据点都被映射到特征空间的超球面的表面上\n",
    "> 任意两点之间的相似程度由向量的余弦表示，也就是两点的kernel 函数值表示\n",
    "\n",
    "\n",
    "如下图所示:\n",
    "<img src='image1.png'>\n",
    "\n",
    "\n"
   ]
  },
  {
   "cell_type": "markdown",
   "metadata": {},
   "source": [
    "## 二、数据点相似程度的直观解释\n",
    "\n",
    "1. 如果两个数据点的余弦距离接近1，那么这两个点在特征空间中非常相似\n",
    "2. 如果这两个数据点的余弦距离越接近0，那么这两个点在特征空间中越不相似\n",
    "\n",
    "\n",
    "<img src='image2.png'>\n",
    "\n",
    "\n",
    "我们使用kernel的目的就是要使得原来非线性可分的点在特征空间中可分，那么我们使用RBFkernel的目的也是尽量使得数据点在特征空间中更容易线性可分。\n",
    "\n",
    "因此我们的目标是使得相同类别的点的向量方向尽可能相同，即余弦接近1，而不同类别的点尽量方向接近九十度，余弦接近0.\n",
    "\n",
    "<img src='image3.png'>\n",
    "\n",
    "那么对于RBF kernel来说，只有一个参数 $\\sigma$ 控制着这些数据点在特征空间中相似程度。\n",
    "\n",
    "$$k(x,z)=\\exp(-\\frac{\\begin{Vmatrix}x-z \\end{Vmatrix} ^2}{2\\sigma^2})$$\n",
    "\n",
    "* 当$\\sigma$ 非常小的时候，k(x,z)=0,任意两点之间角度为90度，不相似\n",
    "\n",
    "\n",
    "* 当$\\sigma$ 非常大的时候，k(x,z)=1,任意两点之间角度为0度，向量重合在一起，非常相似\n",
    "\n",
    "\n",
    "\n",
    "那么随着 $\\sigma$ 从小到大变化的时候，原来更相近的两个点向量夹角减小地越快，而原来不相近的点向量夹角减少地越慢，因此当$\\sigma$取某个值的时候，同一个类别的点和不同类别的点被分开，并且效果最好\n",
    "\n",
    "我们用$w(\\sigma)$表示同一类别中的数据点之间的余弦值的平均\n",
    "<img src='image4.png'>\n",
    "\n",
    "我们用$b(\\sigma)$表示不同类别中的数据点之间的余弦值的平均\n",
    "\n",
    "<img src='image5.png'>\n",
    "\n",
    "我们的目标是要找到一个$\\sigma$，使得\n",
    "\n",
    "$$w(\\sigma) \\rightarrow 1^- \\\\\n",
    "b(\\sigma) \\rightarrow 0^+\n",
    "$$\n",
    "\n",
    "也就是说要要到一个$\\sigma$，使得：\n",
    "\n",
    "$$1-w(\\sigma) \\rightarrow 0^+ \\\\\n",
    "b(\\sigma) \\rightarrow 0^+\n",
    "$$\n",
    "\n",
    "因此决策函数被定义为：\n",
    "\n",
    "$$J(\\sigma)=(1-w(\\sigma))+b(\\sigma)=1-w(\\sigma)+b(\\sigma)$$\n",
    "\n",
    "<img src='image6.png'>"
   ]
  },
  {
   "cell_type": "markdown",
   "metadata": {},
   "source": [
    "## Python 实现\n",
    "\n",
    "我们的目标是求出$w(\\sigma) \\text{ and } b(\\sigma)$,\n",
    "\n",
    "我们如果能够从kernel matrix中找到`所有属于同一个类别的点`，将其RBF kernel 函数值相加起来就可以得到所有属于同一个类别的kernel值\n",
    "\n",
    "再将整个kernel matrix中的值相加减掉刚才属于同一个类别的kernel 值，就是属于不同类别的kernel值之和\n",
    "\n",
    "再将两者除以各自的数量，就可以得到平均值\n",
    "\n",
    "假设有三个不同的类别，如下图所示：\n",
    "\n",
    "<img src='image7.jpg'>\n",
    "\n",
    "上图只是为了表示方便，我们计算矩阵K的时候不用按照类别的顺序\n",
    "\n",
    "把上图中的阴影部分加起来除以相应的个数就是w，\n",
    "把整个矩阵减掉阴影部分加起来再除以相应的个数就是b\n",
    "\n"
   ]
  },
  {
   "cell_type": "code",
   "execution_count": 2,
   "metadata": {
    "collapsed": false
   },
   "outputs": [],
   "source": [
    "%matplotlib inline\n",
    "\n",
    "from sklearn.svm import SVC\n",
    "import numpy as np\n",
    "from matplotlib import pyplot as plt\n",
    "from sklearn import datasets\n",
    "\n",
    "# 获得训练数据\n",
    "iris = datasets.load_iris()\n",
    "\n",
    "X=iris.data\n",
    "t=iris.target"
   ]
  },
  {
   "cell_type": "code",
   "execution_count": 19,
   "metadata": {
    "collapsed": false
   },
   "outputs": [],
   "source": [
    "from scipy.linalg import norm\n",
    "from sklearn.metrics.pairwise import rbf_kernel\n",
    "\n",
    "SIGMA=0.5\n",
    "def cal_J(gamma):\n",
    "    \n",
    "    X=iris.data\n",
    "    t=iris.target\n",
    "    K=rbf_kernel(X,gamma=gamma)\n",
    "    numberOfClass=len(np.unique(t))\n",
    "\n",
    "    #计算同类别的kernel 值得总和\n",
    "    sameClassSum=0\n",
    "\n",
    "    #为了计算w我们需要统计每一个类别的数据点的个数\n",
    "    numberOfClassSample=[]\n",
    "    block1=K[0:51,0:51]\n",
    "    for label in np.unique(t):\n",
    "        IndexOfThisLabel=t==label\n",
    "        sameClassSum+=np.sum(K[np.ix_(IndexOfThisLabel,IndexOfThisLabel)])\n",
    "        numberOfClassSample.append(np.sum(IndexOfThisLabel))\n",
    "\n",
    "    #print numberOfClassSample\n",
    "    diffClassSum=np.sum(K)-sameClassSum\n",
    "\n",
    "    w=sameClassSum/np.sum(np.square(numberOfClassSample))\n",
    "\n",
    "    b=diffClassSum/(np.square(np.sum(numberOfClassSample))-np.sum(np.square(numberOfClassSample)))\n",
    "\n",
    "    J=1-w+b\n",
    "    return J\n",
    "\n",
    "\n"
   ]
  },
  {
   "cell_type": "code",
   "execution_count": 24,
   "metadata": {
    "collapsed": false
   },
   "outputs": [
    {
     "data": {
      "text/plain": [
       "[<matplotlib.lines.Line2D at 0x115b0d4d0>]"
      ]
     },
     "execution_count": 24,
     "metadata": {},
     "output_type": "execute_result"
    },
    {
     "data": {
      "image/png": "[encoded data removed]",
      "text/plain": [
       "<matplotlib.figure.Figure at 0x115962810>"
      ]
     },
     "metadata": {},
     "output_type": "display_data"
    }
   ],
   "source": [
    "sigmaValue=np.arange(0,2,0.02)\n",
    "J=np.zeros_like(sigmaValue)\n",
    "for i in xrange(len(sigmaValue)):\n",
    "    J[i]=cal_J(sigmaValue[i])\n",
    "plt.plot(sigmaValue,J)"
   ]
  },
  {
   "cell_type": "code",
   "execution_count": 25,
   "metadata": {
    "collapsed": false
   },
   "outputs": [
    {
     "data": {
      "text/plain": [
       "   status: 0\n",
       "  success: True\n",
       "     njev: 6\n",
       "     nfev: 18\n",
       " hess_inv: array([[ 0.30520045]])\n",
       "      fun: 0.40991833280965956\n",
       "        x: array([ 0.24713584])\n",
       "  message: 'Optimization terminated successfully.'\n",
       "      jac: array([  4.19095159e-06])"
      ]
     },
     "execution_count": 25,
     "metadata": {},
     "output_type": "execute_result"
    }
   ],
   "source": [
    "from scipy.optimize import minimize\n",
    "\n",
    "minimize(cal_J,0.2)"
   ]
  },
  {
   "cell_type": "markdown",
   "metadata": {},
   "source": [
    "结合图示和scipy的最优化函数可以看出来，当gamma等于0.24713584的时候，J最小，为0.40991833280965956"
   ]
  }
 ],
 "metadata": {
  "kernelspec": {
   "display_name": "Python 2",
   "language": "python",
   "name": "python2"
  },
  "language_info": {
   "codemirror_mode": {
    "name": "ipython",
    "version": 2
   },
   "file_extension": ".py",
   "mimetype": "text/x-python",
   "name": "python",
   "nbconvert_exporter": "python",
   "pygments_lexer": "ipython2",
   "version": "2.7.10"
  }
 },
 "nbformat": 4,
 "nbformat_minor": 0
}
