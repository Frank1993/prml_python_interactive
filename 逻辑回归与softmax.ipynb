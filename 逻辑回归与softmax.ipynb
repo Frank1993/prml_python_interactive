{
 "cells": [
  {
   "cell_type": "markdown",
   "metadata": {},
   "source": [
    "# 一、逻辑回归\n",
    "\n",
    "逻辑回归主要是处理二分类问题，假设我们的score function采用线性函数表示，即 $s = X \\cdot W$,其中X为$N \\times D$(N个样本，每个样本D维)，而W为$D \\times 1$\n",
    "\n",
    "那么我们所求得的 $s = \\{s_1,s_2,...,s_N \\}^T$, 其中 $s_j$表示第j个输入的score。\n",
    "\n",
    "我们使用sigmoid函数对输入的score function 进行处理，那么所有的score都处于0到1之间\n",
    "而我们只有两个分类，$C_1$,$C_2$\n",
    "\n",
    "令   \n",
    "$$p(C_1 \\vert x) = \\sigma (x\\cdot W)$$\n",
    "那么\n",
    "$$p(C_2 \\vert x) = 1- p(C_1 \\vert x)$$\n",
    "\n",
    "\n"
   ]
  },
  {
   "cell_type": "markdown",
   "metadata": {},
   "source": [
    "## 逻辑回归的损失函数及其对W的偏导数\n"
   ]
  },
  {
   "cell_type": "markdown",
   "metadata": {},
   "source": [
    "对于一个数据集 $\\{X_n,t_n\\}$,其中 $t_n \\in {0,1},n = 1,2...N$\n",
    "\n",
    "其似然函数可以写作：\n",
    "\n",
    "$$p(\\mathbf{t} \\vert \\mathbf{w}) = \\prod_{n=1}^{N}y_n^{t_n}\\{1-y_n\\}^{1-t_n}$$\n",
    "\n",
    "其中  $\\mathbf{t} = \\{t_1,....t_N\\}^T$ 且  $y_n = p(C_1 \\vert x_n)$\n",
    "\n",
    "我们将loss function定为似然函数的负对数，这会导出 cross-entropy loss function:\n",
    "\n",
    "$$E(\\mathbf{w}) = -lnp(\\mathbf{t} \\vert \\mathbf{w}) = - \\sum_{n=1}^{N} \\{ t_n ln y_n + (1-t_n) ln (1-y_n)\\}$$\n",
    "\n",
    "我们使用链式法则对其求对W的偏导数。\n",
    "\n",
    "我们定义 $y_n = \\sigma (a_n)$,$a_n = W^Tx_n$\n",
    "\n",
    "$$\\frac{\\partial E}{\\partial y_n} = \\frac{1-t_n}{1-y_n} - \\frac{t_n}{y_n} = \\frac{y_n -t_n}{y_n ( 1-y_n )}\n",
    "$$\n",
    "\n",
    "$$\\frac{\\partial y_n}{\\partial a_n} =\\frac{\\partial \\sigma (a_n)}{\\partial a_n} = y_n(1-y_n)$$\n",
    "\n",
    "且\n",
    "$$\\frac{\\partial a_n}{\\partial W} = x_n$$\n",
    "\n",
    "那么 $$\\nabla E(W) = \\sum_{n=1}^{N}(y_n - t_n)x_n$$\n",
    "\n",
    "我们可以看到  \n",
    "\n",
    "> 损失函数对参数W的偏导是输入的线性组合，每个输入样本$x_n$对偏导的贡献系数为分类错误 $y_n -t_n$\n",
    "\n",
    "> 我们将看到很多损失函数的偏导都有着上述形式\n",
    "\n",
    "\n",
    "> 工程实现时，我们可以如下计算\n",
    "\n",
    "$$\\nabla E(W) =[x_1,x_2,...x_N]\\begin{bmatrix}y_1-t_1 \\\\ y_2-t_2 \\\\ \\vdots \\\\ y_n-t_n \\end{bmatrix}= X^T(\\mathbf{y}-\\mathbf{t})$$"
   ]
  },
  {
   "cell_type": "code",
   "execution_count": null,
   "metadata": {
    "collapsed": true
   },
   "outputs": [],
   "source": []
  }
 ],
 "metadata": {
  "kernelspec": {
   "display_name": "Python 2",
   "language": "python",
   "name": "python2"
  },
  "language_info": {
   "codemirror_mode": {
    "name": "ipython",
    "version": 2
   },
   "file_extension": ".py",
   "mimetype": "text/x-python",
   "name": "python",
   "nbconvert_exporter": "python",
   "pygments_lexer": "ipython2",
   "version": "2.7.10"
  }
 },
 "nbformat": 4,
 "nbformat_minor": 0
}
